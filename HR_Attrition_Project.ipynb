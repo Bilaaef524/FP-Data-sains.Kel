
{
 "cells": [
  {
   "cell_type": "markdown",
   "metadata": {},
   "source": [
    "# HR Attrition Prediction Project\n",
    "\n",
    "**Dataset:** [Kaggle - IBM HR Analytics Attrition Dataset](https://www.kaggle.com/datasets/pavansubhasht/ibm-hr-analytics-attrition-dataset)\n",
    "\n",
    "## Tahap 1: Pengumpulan Data dan Pra-pemrosesan\n",
    "- Load data\n",
    "- Cek null & data duplikat\n",
    "- Encoding kategorikal\n",
    "- Normalisasi\n",
    "- Feature engineering\n",
    "- EDA"
   ]
  },
  {
   "cell_type": "code",
   "execution_count": null,
   "metadata": {},
   "outputs": [],
   "source": [
    "# Install library jika perlu\n",
    "# !pip install pandas matplotlib seaborn scikit-learn xgboost streamlit\n",
    "\n",
    "import pandas as pd\n",
    "import seaborn as sns\n",
    "import matplotlib.pyplot as plt\n",
    "from sklearn.preprocessing import LabelEncoder, MinMaxScaler\n",
    "from sklearn.model_selection import train_test_split\n",
    "from sklearn.ensemble import RandomForestClassifier\n",
    "from sklearn.linear_model import LogisticRegression\n",
    "from sklearn.metrics import classification_report, confusion_matrix\n",
    "\n",
    "df = pd.read_csv('WA_Fn-UseC_-HR-Employee-Attrition.csv')\n",
    "df.head()"
   ]
  },
  {
   "cell_type": "markdown",
   "metadata": {},
   "source": [
    "## Tahap 2: Pemodelan dan Pembelajaran Mesin\n",
    "- Split data\n",
    "- Latih model\n",
    "- Simpan model"
   ]
  },
  {
   "cell_type": "code",
   "execution_count": null,
   "metadata": {},
   "outputs": [],
   "source": [
    "# Contoh singkat training model\n",
    "df['Attrition'] = df['Attrition'].apply(lambda x: 1 if x == 'Yes' else 0)\n",
    "\n",
    "# Encode dan ambil fitur\n",
    "features = ['Age', 'JobSatisfaction', 'MonthlyIncome', 'TotalWorkingYears', 'YearsAtCompany']\n",
    "X = df[features]\n",
    "y = df['Attrition']\n",
    "\n",
    "X_train, X_test, y_train, y_test = train_test_split(X, y, test_size=0.2, random_state=42)\n",
    "\n",
    "model = RandomForestClassifier()\n",
    "model.fit(X_train, y_train)\n",
    "\n",
    "y_pred = model.predict(X_test)\n",
    "print(classification_report(y_test, y_pred))"
   ]
  },
  {
   "cell_type": "markdown",
   "metadata": {},
   "source": [
    "## Tahap 3: Evaluasi Model\n",
    "- Confusion Matrix\n",
    "- Classification Report\n",
    "- ROC AUC (opsional)"
   ]
  },
  {
   "cell_type": "markdown",
   "metadata": {},
   "source": [
    "## Tahap 4: Deploy dengan Streamlit\n",
    "Streamlit script akan dibuat di file `app.py` dan diunggah ke GitHub."
   ]
  }
 ],
 "metadata": {
  "kernelspec": {
   "display_name": "Python 3",
   "language": "python",
   "name": "python3"
  },
  "language_info": {
   "name": "python",
   "version": "3.8"
  }
 },
 "nbformat": 4,
 "nbformat_minor": 2
}
